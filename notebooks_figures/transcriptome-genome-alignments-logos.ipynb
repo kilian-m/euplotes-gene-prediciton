{
 "cells": [
  {
   "cell_type": "code",
   "execution_count": 1,
   "id": "200ff9f4",
   "metadata": {},
   "outputs": [],
   "source": [
    "from Bio.Seq import Seq\n",
    "import re"
   ]
  },
  {
   "cell_type": "code",
   "execution_count": 2,
   "id": "333a4d50",
   "metadata": {},
   "outputs": [],
   "source": [
    "def read_alignment(file):\n",
    "    f = open(file, \"r\")\n",
    "    lines = [x for x in f.readlines() if x[0]!='#']\n",
    "    alignment = []\n",
    "    for x in range(int(len(lines)/5)):\n",
    "        temp = []\n",
    "        for i in range(1,4):\n",
    "            temp.append(lines[5*x+i])\n",
    "        alignment.append(temp)\n",
    "    return alignment\n",
    "\n",
    "def turn_to_sense(alignment):\n",
    "    out = []\n",
    "    for a in alignment:\n",
    "        temp = []\n",
    "        sbj = a[0].split(\" \")[-1].strip().upper()\n",
    "        qry = a[1].split(\" \")[-1].strip().upper()\n",
    "        qlt = a[2].split(\" \")[-1].strip()\n",
    "        strnd = re.split(\"\\s+\", a[1])[-4]\n",
    "        \n",
    "        if strnd == \"+\":\n",
    "            temp.append(sbj)\n",
    "            temp.append(qry)\n",
    "            temp.append(qlt)\n",
    "        \n",
    "        if strnd == \"-\": \n",
    "            temp.append(str(Seq(sbj).reverse_complement()))\n",
    "            temp.append(str(Seq(qry).reverse_complement()))\n",
    "            temp.append(qlt[::-1])\n",
    "        \n",
    "        out.append(temp)\n",
    "            \n",
    "    return out\n",
    "\n",
    "\n",
    "def get_indel_matches(alignment):\n",
    "    l = 7\n",
    "    \n",
    "    regex = re.compile(r\"[A-Z]{}-[A-Z]{}\".format('{'+str(l)+'}','{'+str(l)+'}'))\n",
    "    \n",
    "    indel_matches = []\n",
    "    \n",
    "    for x in alignment:\n",
    "        if match := regex.search(x[0]):\n",
    "            if x[2][match.span()[0]:match.span()[1]] == \"~\"*(2*l+1):\n",
    "                a = x[0][match.span()[0]:match.span()[1]].upper()\n",
    "                b = x[1][match.span()[0]:match.span()[1]].upper()\n",
    "                indel_matches.append((a,b))\n",
    "        if match := regex.search(x[1]):\n",
    "            if x[2][match.span()[0]:match.span()[1]] == \"~\"*(2*l+1):\n",
    "                b = x[0][match.span()[0]:match.span()[1]].upper()\n",
    "                a = x[1][match.span()[0]:match.span()[1]].upper()\n",
    "                indel_matches.append((a,b))\n",
    "    return indel_matches\n",
    "\n",
    "\n",
    "\n",
    "def get_double_indel_matches(alignment):\n",
    "    \n",
    "    l = 9\n",
    "    \n",
    "    regex = re.compile(r\"[A-Z]{}--[A-Z]{}\".format('{'+str(l)+'}','{'+str(l)+'}'))\n",
    "    \n",
    "    indel_matches = []\n",
    "    \n",
    "    for x in alignment:\n",
    "        if match := regex.search(x[0]):\n",
    "            if x[2][match.span()[0]-1:match.span()[1]-1] == \"~\"*(2*l+2):\n",
    "                a = x[0][match.span()[0]-1:match.span()[1]-1].upper()\n",
    "                b = x[1][match.span()[0]-1:match.span()[1]-1].upper()\n",
    "                indel_matches.append((a,b))\n",
    "        if match := regex.search(x[1]):\n",
    "            if x[2][match.span()[0]-1:match.span()[1]-1] == \"~\"*(2*l+2):\n",
    "                b = x[0][match.span()[0]-1:match.span()[1]-1].upper()\n",
    "                a = x[1][match.span()[0]-1:match.span()[1]-1].upper()\n",
    "                indel_matches.append((a,b))\n",
    "    return indel_matches"
   ]
  },
  {
   "cell_type": "code",
   "execution_count": 3,
   "id": "001b7a18",
   "metadata": {},
   "outputs": [],
   "source": [
    "alignment = read_alignment(\"crass_focardii_forward.maf\")\n",
    "\n",
    "alignment = turn_to_sense(alignment)\n",
    "\n",
    "\n",
    "indel_matches = get_indel_matches(alignment)\n",
    "\n",
    "\n",
    "double_indel_matches = get_double_indel_matches(alignment)"
   ]
  },
  {
   "cell_type": "code",
   "execution_count": 6,
   "id": "f1470390",
   "metadata": {},
   "outputs": [],
   "source": [
    "file=open('transcriptome-genome-align-plus1-fs.txt','w')\n",
    "file.writelines([x[1] for x in indel_matches])\n",
    "file.close()"
   ]
  },
  {
   "cell_type": "code",
   "execution_count": 7,
   "id": "fa1d2b10",
   "metadata": {},
   "outputs": [],
   "source": [
    "file=open('transcriptome-genome-align-plus2-fs.txt','w')\n",
    "file.writelines([x[1] for x in double_indel_matches])\n",
    "file.close()"
   ]
  }
 ],
 "metadata": {
  "kernelspec": {
   "display_name": "Python 3",
   "language": "python",
   "name": "python3"
  },
  "language_info": {
   "codemirror_mode": {
    "name": "ipython",
    "version": 3
   },
   "file_extension": ".py",
   "mimetype": "text/x-python",
   "name": "python",
   "nbconvert_exporter": "python",
   "pygments_lexer": "ipython3",
   "version": "3.8.10"
  }
 },
 "nbformat": 4,
 "nbformat_minor": 5
}
